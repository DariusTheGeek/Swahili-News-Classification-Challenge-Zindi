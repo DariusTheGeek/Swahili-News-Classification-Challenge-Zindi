{
  "nbformat": 4,
  "nbformat_minor": 0,
  "metadata": {
    "colab": {
      "name": "Brainiac_2nd_place_solution_Swahili_News_Classification_Challenge.ipynb",
      "provenance": [],
      "collapsed_sections": []
    },
    "kernelspec": {
      "name": "python3",
      "display_name": "Python 3"
    },
    "accelerator": "GPU",
    "widgets": {
      "application/vnd.jupyter.widget-state+json": {
        "fa3a8735e68c41c7accffc74ce9447ae": {
          "model_module": "@jupyter-widgets/controls",
          "model_name": "HBoxModel",
          "state": {
            "_view_name": "HBoxView",
            "_dom_classes": [],
            "_model_name": "HBoxModel",
            "_view_module": "@jupyter-widgets/controls",
            "_model_module_version": "1.5.0",
            "_view_count": null,
            "_view_module_version": "1.5.0",
            "box_style": "",
            "layout": "IPY_MODEL_ec598ba5ac874ce7853c68e8ebe93645",
            "_model_module": "@jupyter-widgets/controls",
            "children": [
              "IPY_MODEL_8b748858dc2f43dbbe61e0e7d60364a0",
              "IPY_MODEL_4d3c49b123ea443a875493bb77e162cb"
            ]
          }
        },
        "ec598ba5ac874ce7853c68e8ebe93645": {
          "model_module": "@jupyter-widgets/base",
          "model_name": "LayoutModel",
          "state": {
            "_view_name": "LayoutView",
            "grid_template_rows": null,
            "right": null,
            "justify_content": null,
            "_view_module": "@jupyter-widgets/base",
            "overflow": null,
            "_model_module_version": "1.2.0",
            "_view_count": null,
            "flex_flow": null,
            "width": null,
            "min_width": null,
            "border": null,
            "align_items": null,
            "bottom": null,
            "_model_module": "@jupyter-widgets/base",
            "top": null,
            "grid_column": null,
            "overflow_y": null,
            "overflow_x": null,
            "grid_auto_flow": null,
            "grid_area": null,
            "grid_template_columns": null,
            "flex": null,
            "_model_name": "LayoutModel",
            "justify_items": null,
            "grid_row": null,
            "max_height": null,
            "align_content": null,
            "visibility": null,
            "align_self": null,
            "height": null,
            "min_height": null,
            "padding": null,
            "grid_auto_rows": null,
            "grid_gap": null,
            "max_width": null,
            "order": null,
            "_view_module_version": "1.2.0",
            "grid_template_areas": null,
            "object_position": null,
            "object_fit": null,
            "grid_auto_columns": null,
            "margin": null,
            "display": null,
            "left": null
          }
        },
        "8b748858dc2f43dbbe61e0e7d60364a0": {
          "model_module": "@jupyter-widgets/controls",
          "model_name": "FloatProgressModel",
          "state": {
            "_view_name": "ProgressView",
            "style": "IPY_MODEL_958db85b2ea744dd81c994a50933d1b5",
            "_dom_classes": [],
            "description": "Downloading: 100%",
            "_model_name": "FloatProgressModel",
            "bar_style": "success",
            "max": 512,
            "_view_module": "@jupyter-widgets/controls",
            "_model_module_version": "1.5.0",
            "value": 512,
            "_view_count": null,
            "_view_module_version": "1.5.0",
            "orientation": "horizontal",
            "min": 0,
            "description_tooltip": null,
            "_model_module": "@jupyter-widgets/controls",
            "layout": "IPY_MODEL_f78f05533cca49f995448596c4231a98"
          }
        },
        "4d3c49b123ea443a875493bb77e162cb": {
          "model_module": "@jupyter-widgets/controls",
          "model_name": "HTMLModel",
          "state": {
            "_view_name": "HTMLView",
            "style": "IPY_MODEL_9619e3c1eb3a409899c702486a17e792",
            "_dom_classes": [],
            "description": "",
            "_model_name": "HTMLModel",
            "placeholder": "​",
            "_view_module": "@jupyter-widgets/controls",
            "_model_module_version": "1.5.0",
            "value": " 512/512 [00:00&lt;00:00, 6.18kB/s]",
            "_view_count": null,
            "_view_module_version": "1.5.0",
            "description_tooltip": null,
            "_model_module": "@jupyter-widgets/controls",
            "layout": "IPY_MODEL_28422b1b07ea447db4261b9ea662659c"
          }
        },
        "958db85b2ea744dd81c994a50933d1b5": {
          "model_module": "@jupyter-widgets/controls",
          "model_name": "ProgressStyleModel",
          "state": {
            "_view_name": "StyleView",
            "_model_name": "ProgressStyleModel",
            "description_width": "initial",
            "_view_module": "@jupyter-widgets/base",
            "_model_module_version": "1.5.0",
            "_view_count": null,
            "_view_module_version": "1.2.0",
            "bar_color": null,
            "_model_module": "@jupyter-widgets/controls"
          }
        },
        "f78f05533cca49f995448596c4231a98": {
          "model_module": "@jupyter-widgets/base",
          "model_name": "LayoutModel",
          "state": {
            "_view_name": "LayoutView",
            "grid_template_rows": null,
            "right": null,
            "justify_content": null,
            "_view_module": "@jupyter-widgets/base",
            "overflow": null,
            "_model_module_version": "1.2.0",
            "_view_count": null,
            "flex_flow": null,
            "width": null,
            "min_width": null,
            "border": null,
            "align_items": null,
            "bottom": null,
            "_model_module": "@jupyter-widgets/base",
            "top": null,
            "grid_column": null,
            "overflow_y": null,
            "overflow_x": null,
            "grid_auto_flow": null,
            "grid_area": null,
            "grid_template_columns": null,
            "flex": null,
            "_model_name": "LayoutModel",
            "justify_items": null,
            "grid_row": null,
            "max_height": null,
            "align_content": null,
            "visibility": null,
            "align_self": null,
            "height": null,
            "min_height": null,
            "padding": null,
            "grid_auto_rows": null,
            "grid_gap": null,
            "max_width": null,
            "order": null,
            "_view_module_version": "1.2.0",
            "grid_template_areas": null,
            "object_position": null,
            "object_fit": null,
            "grid_auto_columns": null,
            "margin": null,
            "display": null,
            "left": null
          }
        },
        "9619e3c1eb3a409899c702486a17e792": {
          "model_module": "@jupyter-widgets/controls",
          "model_name": "DescriptionStyleModel",
          "state": {
            "_view_name": "StyleView",
            "_model_name": "DescriptionStyleModel",
            "description_width": "",
            "_view_module": "@jupyter-widgets/base",
            "_model_module_version": "1.5.0",
            "_view_count": null,
            "_view_module_version": "1.2.0",
            "_model_module": "@jupyter-widgets/controls"
          }
        },
        "28422b1b07ea447db4261b9ea662659c": {
          "model_module": "@jupyter-widgets/base",
          "model_name": "LayoutModel",
          "state": {
            "_view_name": "LayoutView",
            "grid_template_rows": null,
            "right": null,
            "justify_content": null,
            "_view_module": "@jupyter-widgets/base",
            "overflow": null,
            "_model_module_version": "1.2.0",
            "_view_count": null,
            "flex_flow": null,
            "width": null,
            "min_width": null,
            "border": null,
            "align_items": null,
            "bottom": null,
            "_model_module": "@jupyter-widgets/base",
            "top": null,
            "grid_column": null,
            "overflow_y": null,
            "overflow_x": null,
            "grid_auto_flow": null,
            "grid_area": null,
            "grid_template_columns": null,
            "flex": null,
            "_model_name": "LayoutModel",
            "justify_items": null,
            "grid_row": null,
            "max_height": null,
            "align_content": null,
            "visibility": null,
            "align_self": null,
            "height": null,
            "min_height": null,
            "padding": null,
            "grid_auto_rows": null,
            "grid_gap": null,
            "max_width": null,
            "order": null,
            "_view_module_version": "1.2.0",
            "grid_template_areas": null,
            "object_position": null,
            "object_fit": null,
            "grid_auto_columns": null,
            "margin": null,
            "display": null,
            "left": null
          }
        },
        "560d3fa635694e2a9a9410a011737075": {
          "model_module": "@jupyter-widgets/controls",
          "model_name": "HBoxModel",
          "state": {
            "_view_name": "HBoxView",
            "_dom_classes": [],
            "_model_name": "HBoxModel",
            "_view_module": "@jupyter-widgets/controls",
            "_model_module_version": "1.5.0",
            "_view_count": null,
            "_view_module_version": "1.5.0",
            "box_style": "",
            "layout": "IPY_MODEL_2c5283f30c8f428a8dd509702b90729b",
            "_model_module": "@jupyter-widgets/controls",
            "children": [
              "IPY_MODEL_86f143f04251403e8ed50fe52e72df2a",
              "IPY_MODEL_144eea02d8b2441196d91c646be08d45"
            ]
          }
        },
        "2c5283f30c8f428a8dd509702b90729b": {
          "model_module": "@jupyter-widgets/base",
          "model_name": "LayoutModel",
          "state": {
            "_view_name": "LayoutView",
            "grid_template_rows": null,
            "right": null,
            "justify_content": null,
            "_view_module": "@jupyter-widgets/base",
            "overflow": null,
            "_model_module_version": "1.2.0",
            "_view_count": null,
            "flex_flow": null,
            "width": null,
            "min_width": null,
            "border": null,
            "align_items": null,
            "bottom": null,
            "_model_module": "@jupyter-widgets/base",
            "top": null,
            "grid_column": null,
            "overflow_y": null,
            "overflow_x": null,
            "grid_auto_flow": null,
            "grid_area": null,
            "grid_template_columns": null,
            "flex": null,
            "_model_name": "LayoutModel",
            "justify_items": null,
            "grid_row": null,
            "max_height": null,
            "align_content": null,
            "visibility": null,
            "align_self": null,
            "height": null,
            "min_height": null,
            "padding": null,
            "grid_auto_rows": null,
            "grid_gap": null,
            "max_width": null,
            "order": null,
            "_view_module_version": "1.2.0",
            "grid_template_areas": null,
            "object_position": null,
            "object_fit": null,
            "grid_auto_columns": null,
            "margin": null,
            "display": null,
            "left": null
          }
        },
        "86f143f04251403e8ed50fe52e72df2a": {
          "model_module": "@jupyter-widgets/controls",
          "model_name": "FloatProgressModel",
          "state": {
            "_view_name": "ProgressView",
            "style": "IPY_MODEL_fdb5ff5ec5ab4fa486f8714cd185d799",
            "_dom_classes": [],
            "description": "Downloading: 100%",
            "_model_name": "FloatProgressModel",
            "bar_style": "success",
            "max": 512,
            "_view_module": "@jupyter-widgets/controls",
            "_model_module_version": "1.5.0",
            "value": 512,
            "_view_count": null,
            "_view_module_version": "1.5.0",
            "orientation": "horizontal",
            "min": 0,
            "description_tooltip": null,
            "_model_module": "@jupyter-widgets/controls",
            "layout": "IPY_MODEL_901791b19c524307b8105bc71fa3d27b"
          }
        },
        "144eea02d8b2441196d91c646be08d45": {
          "model_module": "@jupyter-widgets/controls",
          "model_name": "HTMLModel",
          "state": {
            "_view_name": "HTMLView",
            "style": "IPY_MODEL_b06a0c9a224641fabc62ebcc8241bca6",
            "_dom_classes": [],
            "description": "",
            "_model_name": "HTMLModel",
            "placeholder": "​",
            "_view_module": "@jupyter-widgets/controls",
            "_model_module_version": "1.5.0",
            "value": " 512/512 [00:03&lt;00:00, 160B/s]",
            "_view_count": null,
            "_view_module_version": "1.5.0",
            "description_tooltip": null,
            "_model_module": "@jupyter-widgets/controls",
            "layout": "IPY_MODEL_c014fdd5fa564f50be83089471cc21e4"
          }
        },
        "fdb5ff5ec5ab4fa486f8714cd185d799": {
          "model_module": "@jupyter-widgets/controls",
          "model_name": "ProgressStyleModel",
          "state": {
            "_view_name": "StyleView",
            "_model_name": "ProgressStyleModel",
            "description_width": "initial",
            "_view_module": "@jupyter-widgets/base",
            "_model_module_version": "1.5.0",
            "_view_count": null,
            "_view_module_version": "1.2.0",
            "bar_color": null,
            "_model_module": "@jupyter-widgets/controls"
          }
        },
        "901791b19c524307b8105bc71fa3d27b": {
          "model_module": "@jupyter-widgets/base",
          "model_name": "LayoutModel",
          "state": {
            "_view_name": "LayoutView",
            "grid_template_rows": null,
            "right": null,
            "justify_content": null,
            "_view_module": "@jupyter-widgets/base",
            "overflow": null,
            "_model_module_version": "1.2.0",
            "_view_count": null,
            "flex_flow": null,
            "width": null,
            "min_width": null,
            "border": null,
            "align_items": null,
            "bottom": null,
            "_model_module": "@jupyter-widgets/base",
            "top": null,
            "grid_column": null,
            "overflow_y": null,
            "overflow_x": null,
            "grid_auto_flow": null,
            "grid_area": null,
            "grid_template_columns": null,
            "flex": null,
            "_model_name": "LayoutModel",
            "justify_items": null,
            "grid_row": null,
            "max_height": null,
            "align_content": null,
            "visibility": null,
            "align_self": null,
            "height": null,
            "min_height": null,
            "padding": null,
            "grid_auto_rows": null,
            "grid_gap": null,
            "max_width": null,
            "order": null,
            "_view_module_version": "1.2.0",
            "grid_template_areas": null,
            "object_position": null,
            "object_fit": null,
            "grid_auto_columns": null,
            "margin": null,
            "display": null,
            "left": null
          }
        },
        "b06a0c9a224641fabc62ebcc8241bca6": {
          "model_module": "@jupyter-widgets/controls",
          "model_name": "DescriptionStyleModel",
          "state": {
            "_view_name": "StyleView",
            "_model_name": "DescriptionStyleModel",
            "description_width": "",
            "_view_module": "@jupyter-widgets/base",
            "_model_module_version": "1.5.0",
            "_view_count": null,
            "_view_module_version": "1.2.0",
            "_model_module": "@jupyter-widgets/controls"
          }
        },
        "c014fdd5fa564f50be83089471cc21e4": {
          "model_module": "@jupyter-widgets/base",
          "model_name": "LayoutModel",
          "state": {
            "_view_name": "LayoutView",
            "grid_template_rows": null,
            "right": null,
            "justify_content": null,
            "_view_module": "@jupyter-widgets/base",
            "overflow": null,
            "_model_module_version": "1.2.0",
            "_view_count": null,
            "flex_flow": null,
            "width": null,
            "min_width": null,
            "border": null,
            "align_items": null,
            "bottom": null,
            "_model_module": "@jupyter-widgets/base",
            "top": null,
            "grid_column": null,
            "overflow_y": null,
            "overflow_x": null,
            "grid_auto_flow": null,
            "grid_area": null,
            "grid_template_columns": null,
            "flex": null,
            "_model_name": "LayoutModel",
            "justify_items": null,
            "grid_row": null,
            "max_height": null,
            "align_content": null,
            "visibility": null,
            "align_self": null,
            "height": null,
            "min_height": null,
            "padding": null,
            "grid_auto_rows": null,
            "grid_gap": null,
            "max_width": null,
            "order": null,
            "_view_module_version": "1.2.0",
            "grid_template_areas": null,
            "object_position": null,
            "object_fit": null,
            "grid_auto_columns": null,
            "margin": null,
            "display": null,
            "left": null
          }
        },
        "a2f4de745dd648bf97d0916abc6d0df8": {
          "model_module": "@jupyter-widgets/controls",
          "model_name": "HBoxModel",
          "state": {
            "_view_name": "HBoxView",
            "_dom_classes": [],
            "_model_name": "HBoxModel",
            "_view_module": "@jupyter-widgets/controls",
            "_model_module_version": "1.5.0",
            "_view_count": null,
            "_view_module_version": "1.5.0",
            "box_style": "",
            "layout": "IPY_MODEL_ac11c6a44879425e85b78443e4036dcd",
            "_model_module": "@jupyter-widgets/controls",
            "children": [
              "IPY_MODEL_e2c4ee3ce4d54982a367d76a3eb665a9",
              "IPY_MODEL_999d3d3939c545dbaf6cfb7db9caf652"
            ]
          }
        },
        "ac11c6a44879425e85b78443e4036dcd": {
          "model_module": "@jupyter-widgets/base",
          "model_name": "LayoutModel",
          "state": {
            "_view_name": "LayoutView",
            "grid_template_rows": null,
            "right": null,
            "justify_content": null,
            "_view_module": "@jupyter-widgets/base",
            "overflow": null,
            "_model_module_version": "1.2.0",
            "_view_count": null,
            "flex_flow": null,
            "width": null,
            "min_width": null,
            "border": null,
            "align_items": null,
            "bottom": null,
            "_model_module": "@jupyter-widgets/base",
            "top": null,
            "grid_column": null,
            "overflow_y": null,
            "overflow_x": null,
            "grid_auto_flow": null,
            "grid_area": null,
            "grid_template_columns": null,
            "flex": null,
            "_model_name": "LayoutModel",
            "justify_items": null,
            "grid_row": null,
            "max_height": null,
            "align_content": null,
            "visibility": null,
            "align_self": null,
            "height": null,
            "min_height": null,
            "padding": null,
            "grid_auto_rows": null,
            "grid_gap": null,
            "max_width": null,
            "order": null,
            "_view_module_version": "1.2.0",
            "grid_template_areas": null,
            "object_position": null,
            "object_fit": null,
            "grid_auto_columns": null,
            "margin": null,
            "display": null,
            "left": null
          }
        },
        "e2c4ee3ce4d54982a367d76a3eb665a9": {
          "model_module": "@jupyter-widgets/controls",
          "model_name": "FloatProgressModel",
          "state": {
            "_view_name": "ProgressView",
            "style": "IPY_MODEL_90fbdf46e39b4a929d838664c182f190",
            "_dom_classes": [],
            "description": "Downloading: 100%",
            "_model_name": "FloatProgressModel",
            "bar_style": "success",
            "max": 5069051,
            "_view_module": "@jupyter-widgets/controls",
            "_model_module_version": "1.5.0",
            "value": 5069051,
            "_view_count": null,
            "_view_module_version": "1.5.0",
            "orientation": "horizontal",
            "min": 0,
            "description_tooltip": null,
            "_model_module": "@jupyter-widgets/controls",
            "layout": "IPY_MODEL_8def438e71a849b485daab55c4d2dfbd"
          }
        },
        "999d3d3939c545dbaf6cfb7db9caf652": {
          "model_module": "@jupyter-widgets/controls",
          "model_name": "HTMLModel",
          "state": {
            "_view_name": "HTMLView",
            "style": "IPY_MODEL_24f5449bbb924cb086c8376ba0a0217a",
            "_dom_classes": [],
            "description": "",
            "_model_name": "HTMLModel",
            "placeholder": "​",
            "_view_module": "@jupyter-widgets/controls",
            "_model_module_version": "1.5.0",
            "value": " 5.07M/5.07M [00:02&lt;00:00, 2.43MB/s]",
            "_view_count": null,
            "_view_module_version": "1.5.0",
            "description_tooltip": null,
            "_model_module": "@jupyter-widgets/controls",
            "layout": "IPY_MODEL_53e0c97d7438446480b6b203e61e2763"
          }
        },
        "90fbdf46e39b4a929d838664c182f190": {
          "model_module": "@jupyter-widgets/controls",
          "model_name": "ProgressStyleModel",
          "state": {
            "_view_name": "StyleView",
            "_model_name": "ProgressStyleModel",
            "description_width": "initial",
            "_view_module": "@jupyter-widgets/base",
            "_model_module_version": "1.5.0",
            "_view_count": null,
            "_view_module_version": "1.2.0",
            "bar_color": null,
            "_model_module": "@jupyter-widgets/controls"
          }
        },
        "8def438e71a849b485daab55c4d2dfbd": {
          "model_module": "@jupyter-widgets/base",
          "model_name": "LayoutModel",
          "state": {
            "_view_name": "LayoutView",
            "grid_template_rows": null,
            "right": null,
            "justify_content": null,
            "_view_module": "@jupyter-widgets/base",
            "overflow": null,
            "_model_module_version": "1.2.0",
            "_view_count": null,
            "flex_flow": null,
            "width": null,
            "min_width": null,
            "border": null,
            "align_items": null,
            "bottom": null,
            "_model_module": "@jupyter-widgets/base",
            "top": null,
            "grid_column": null,
            "overflow_y": null,
            "overflow_x": null,
            "grid_auto_flow": null,
            "grid_area": null,
            "grid_template_columns": null,
            "flex": null,
            "_model_name": "LayoutModel",
            "justify_items": null,
            "grid_row": null,
            "max_height": null,
            "align_content": null,
            "visibility": null,
            "align_self": null,
            "height": null,
            "min_height": null,
            "padding": null,
            "grid_auto_rows": null,
            "grid_gap": null,
            "max_width": null,
            "order": null,
            "_view_module_version": "1.2.0",
            "grid_template_areas": null,
            "object_position": null,
            "object_fit": null,
            "grid_auto_columns": null,
            "margin": null,
            "display": null,
            "left": null
          }
        },
        "24f5449bbb924cb086c8376ba0a0217a": {
          "model_module": "@jupyter-widgets/controls",
          "model_name": "DescriptionStyleModel",
          "state": {
            "_view_name": "StyleView",
            "_model_name": "DescriptionStyleModel",
            "description_width": "",
            "_view_module": "@jupyter-widgets/base",
            "_model_module_version": "1.5.0",
            "_view_count": null,
            "_view_module_version": "1.2.0",
            "_model_module": "@jupyter-widgets/controls"
          }
        },
        "53e0c97d7438446480b6b203e61e2763": {
          "model_module": "@jupyter-widgets/base",
          "model_name": "LayoutModel",
          "state": {
            "_view_name": "LayoutView",
            "grid_template_rows": null,
            "right": null,
            "justify_content": null,
            "_view_module": "@jupyter-widgets/base",
            "overflow": null,
            "_model_module_version": "1.2.0",
            "_view_count": null,
            "flex_flow": null,
            "width": null,
            "min_width": null,
            "border": null,
            "align_items": null,
            "bottom": null,
            "_model_module": "@jupyter-widgets/base",
            "top": null,
            "grid_column": null,
            "overflow_y": null,
            "overflow_x": null,
            "grid_auto_flow": null,
            "grid_area": null,
            "grid_template_columns": null,
            "flex": null,
            "_model_name": "LayoutModel",
            "justify_items": null,
            "grid_row": null,
            "max_height": null,
            "align_content": null,
            "visibility": null,
            "align_self": null,
            "height": null,
            "min_height": null,
            "padding": null,
            "grid_auto_rows": null,
            "grid_gap": null,
            "max_width": null,
            "order": null,
            "_view_module_version": "1.2.0",
            "grid_template_areas": null,
            "object_position": null,
            "object_fit": null,
            "grid_auto_columns": null,
            "margin": null,
            "display": null,
            "left": null
          }
        },
        "987cc41166a04adba2b8b78039aee22a": {
          "model_module": "@jupyter-widgets/controls",
          "model_name": "HBoxModel",
          "state": {
            "_view_name": "HBoxView",
            "_dom_classes": [],
            "_model_name": "HBoxModel",
            "_view_module": "@jupyter-widgets/controls",
            "_model_module_version": "1.5.0",
            "_view_count": null,
            "_view_module_version": "1.5.0",
            "box_style": "",
            "layout": "IPY_MODEL_bf3031a3cec04b6683aef27dbf2aa3b0",
            "_model_module": "@jupyter-widgets/controls",
            "children": [
              "IPY_MODEL_d2bff619756249ebb8b5fa428faf02a5",
              "IPY_MODEL_c1fafc3f913342cd851b9ba34db8d5d9"
            ]
          }
        },
        "bf3031a3cec04b6683aef27dbf2aa3b0": {
          "model_module": "@jupyter-widgets/base",
          "model_name": "LayoutModel",
          "state": {
            "_view_name": "LayoutView",
            "grid_template_rows": null,
            "right": null,
            "justify_content": null,
            "_view_module": "@jupyter-widgets/base",
            "overflow": null,
            "_model_module_version": "1.2.0",
            "_view_count": null,
            "flex_flow": null,
            "width": null,
            "min_width": null,
            "border": null,
            "align_items": null,
            "bottom": null,
            "_model_module": "@jupyter-widgets/base",
            "top": null,
            "grid_column": null,
            "overflow_y": null,
            "overflow_x": null,
            "grid_auto_flow": null,
            "grid_area": null,
            "grid_template_columns": null,
            "flex": null,
            "_model_name": "LayoutModel",
            "justify_items": null,
            "grid_row": null,
            "max_height": null,
            "align_content": null,
            "visibility": null,
            "align_self": null,
            "height": null,
            "min_height": null,
            "padding": null,
            "grid_auto_rows": null,
            "grid_gap": null,
            "max_width": null,
            "order": null,
            "_view_module_version": "1.2.0",
            "grid_template_areas": null,
            "object_position": null,
            "object_fit": null,
            "grid_auto_columns": null,
            "margin": null,
            "display": null,
            "left": null
          }
        },
        "d2bff619756249ebb8b5fa428faf02a5": {
          "model_module": "@jupyter-widgets/controls",
          "model_name": "FloatProgressModel",
          "state": {
            "_view_name": "ProgressView",
            "style": "IPY_MODEL_13d8e85845ae4ba69bd95904e14a542e",
            "_dom_classes": [],
            "description": "Downloading: 100%",
            "_model_name": "FloatProgressModel",
            "bar_style": "success",
            "max": 1885418496,
            "_view_module": "@jupyter-widgets/controls",
            "_model_module_version": "1.5.0",
            "value": 1885418496,
            "_view_count": null,
            "_view_module_version": "1.5.0",
            "orientation": "horizontal",
            "min": 0,
            "description_tooltip": null,
            "_model_module": "@jupyter-widgets/controls",
            "layout": "IPY_MODEL_06441c2d907e4bcf9494d7ba9abe759f"
          }
        },
        "c1fafc3f913342cd851b9ba34db8d5d9": {
          "model_module": "@jupyter-widgets/controls",
          "model_name": "HTMLModel",
          "state": {
            "_view_name": "HTMLView",
            "style": "IPY_MODEL_0d7e6bc240e64734a98c710e0ab92112",
            "_dom_classes": [],
            "description": "",
            "_model_name": "HTMLModel",
            "placeholder": "​",
            "_view_module": "@jupyter-widgets/controls",
            "_model_module_version": "1.5.0",
            "value": " 1.89G/1.89G [00:37&lt;00:00, 50.8MB/s]",
            "_view_count": null,
            "_view_module_version": "1.5.0",
            "description_tooltip": null,
            "_model_module": "@jupyter-widgets/controls",
            "layout": "IPY_MODEL_3d12ea39d6764e0f90f02c265cb7d295"
          }
        },
        "13d8e85845ae4ba69bd95904e14a542e": {
          "model_module": "@jupyter-widgets/controls",
          "model_name": "ProgressStyleModel",
          "state": {
            "_view_name": "StyleView",
            "_model_name": "ProgressStyleModel",
            "description_width": "initial",
            "_view_module": "@jupyter-widgets/base",
            "_model_module_version": "1.5.0",
            "_view_count": null,
            "_view_module_version": "1.2.0",
            "bar_color": null,
            "_model_module": "@jupyter-widgets/controls"
          }
        },
        "06441c2d907e4bcf9494d7ba9abe759f": {
          "model_module": "@jupyter-widgets/base",
          "model_name": "LayoutModel",
          "state": {
            "_view_name": "LayoutView",
            "grid_template_rows": null,
            "right": null,
            "justify_content": null,
            "_view_module": "@jupyter-widgets/base",
            "overflow": null,
            "_model_module_version": "1.2.0",
            "_view_count": null,
            "flex_flow": null,
            "width": null,
            "min_width": null,
            "border": null,
            "align_items": null,
            "bottom": null,
            "_model_module": "@jupyter-widgets/base",
            "top": null,
            "grid_column": null,
            "overflow_y": null,
            "overflow_x": null,
            "grid_auto_flow": null,
            "grid_area": null,
            "grid_template_columns": null,
            "flex": null,
            "_model_name": "LayoutModel",
            "justify_items": null,
            "grid_row": null,
            "max_height": null,
            "align_content": null,
            "visibility": null,
            "align_self": null,
            "height": null,
            "min_height": null,
            "padding": null,
            "grid_auto_rows": null,
            "grid_gap": null,
            "max_width": null,
            "order": null,
            "_view_module_version": "1.2.0",
            "grid_template_areas": null,
            "object_position": null,
            "object_fit": null,
            "grid_auto_columns": null,
            "margin": null,
            "display": null,
            "left": null
          }
        },
        "0d7e6bc240e64734a98c710e0ab92112": {
          "model_module": "@jupyter-widgets/controls",
          "model_name": "DescriptionStyleModel",
          "state": {
            "_view_name": "StyleView",
            "_model_name": "DescriptionStyleModel",
            "description_width": "",
            "_view_module": "@jupyter-widgets/base",
            "_model_module_version": "1.5.0",
            "_view_count": null,
            "_view_module_version": "1.2.0",
            "_model_module": "@jupyter-widgets/controls"
          }
        },
        "3d12ea39d6764e0f90f02c265cb7d295": {
          "model_module": "@jupyter-widgets/base",
          "model_name": "LayoutModel",
          "state": {
            "_view_name": "LayoutView",
            "grid_template_rows": null,
            "right": null,
            "justify_content": null,
            "_view_module": "@jupyter-widgets/base",
            "overflow": null,
            "_model_module_version": "1.2.0",
            "_view_count": null,
            "flex_flow": null,
            "width": null,
            "min_width": null,
            "border": null,
            "align_items": null,
            "bottom": null,
            "_model_module": "@jupyter-widgets/base",
            "top": null,
            "grid_column": null,
            "overflow_y": null,
            "overflow_x": null,
            "grid_auto_flow": null,
            "grid_area": null,
            "grid_template_columns": null,
            "flex": null,
            "_model_name": "LayoutModel",
            "justify_items": null,
            "grid_row": null,
            "max_height": null,
            "align_content": null,
            "visibility": null,
            "align_self": null,
            "height": null,
            "min_height": null,
            "padding": null,
            "grid_auto_rows": null,
            "grid_gap": null,
            "max_width": null,
            "order": null,
            "_view_module_version": "1.2.0",
            "grid_template_areas": null,
            "object_position": null,
            "object_fit": null,
            "grid_auto_columns": null,
            "margin": null,
            "display": null,
            "left": null
          }
        }
      }
    }
  },
  "cells": [
    {
      "cell_type": "code",
      "metadata": {
        "colab": {
          "base_uri": "https://localhost:8080/"
        },
        "id": "ojSAlH9W_gfv",
        "outputId": "b315bf07-ec72-45c4-91d5-c7a99f775514"
      },
      "source": [
        "# Check GPU type\r\n",
        "!nvidia-smi"
      ],
      "execution_count": 1,
      "outputs": [
        {
          "output_type": "stream",
          "text": [
            "Sun Feb 28 17:29:50 2021       \n",
            "+-----------------------------------------------------------------------------+\n",
            "| NVIDIA-SMI 460.39       Driver Version: 460.32.03    CUDA Version: 11.2     |\n",
            "|-------------------------------+----------------------+----------------------+\n",
            "| GPU  Name        Persistence-M| Bus-Id        Disp.A | Volatile Uncorr. ECC |\n",
            "| Fan  Temp  Perf  Pwr:Usage/Cap|         Memory-Usage | GPU-Util  Compute M. |\n",
            "|                               |                      |               MIG M. |\n",
            "|===============================+======================+======================|\n",
            "|   0  Tesla T4            Off  | 00000000:00:04.0 Off |                    0 |\n",
            "| N/A   46C    P8    10W /  70W |      0MiB / 15109MiB |      0%      Default |\n",
            "|                               |                      |                  N/A |\n",
            "+-------------------------------+----------------------+----------------------+\n",
            "                                                                               \n",
            "+-----------------------------------------------------------------------------+\n",
            "| Processes:                                                                  |\n",
            "|  GPU   GI   CI        PID   Type   Process name                  GPU Memory |\n",
            "|        ID   ID                                                   Usage      |\n",
            "|=============================================================================|\n",
            "|  No running processes found                                                 |\n",
            "+-----------------------------------------------------------------------------+\n"
          ],
          "name": "stdout"
        }
      ]
    },
    {
      "cell_type": "code",
      "metadata": {
        "colab": {
          "base_uri": "https://localhost:8080/"
        },
        "id": "5016OlJnp2kC",
        "outputId": "021ee1d6-8a7a-42cc-e0f1-813f0473181c"
      },
      "source": [
        "# Upgrade pip and install ktrain\r\n",
        "!pip -qq install -U pip\r\n",
        "!pip -qq install ktrain"
      ],
      "execution_count": 2,
      "outputs": [
        {
          "output_type": "stream",
          "text": [
            "\u001b[K     |████████████████████████████████| 1.5MB 7.6MB/s \n",
            "\u001b[K     |████████████████████████████████| 25.3 MB 73 kB/s \n",
            "\u001b[K     |████████████████████████████████| 6.8 MB 62.4 MB/s \n",
            "\u001b[K     |████████████████████████████████| 981 kB 60.1 MB/s \n",
            "\u001b[K     |████████████████████████████████| 263 kB 53.8 MB/s \n",
            "\u001b[K     |████████████████████████████████| 1.3 MB 31.5 MB/s \n",
            "\u001b[K     |████████████████████████████████| 1.2 MB 56.9 MB/s \n",
            "\u001b[K     |████████████████████████████████| 468 kB 53.4 MB/s \n",
            "\u001b[K     |████████████████████████████████| 1.1 MB 60.7 MB/s \n",
            "\u001b[K     |████████████████████████████████| 883 kB 61.2 MB/s \n",
            "\u001b[K     |████████████████████████████████| 2.9 MB 65.4 MB/s \n",
            "\u001b[?25h  Building wheel for ktrain (setup.py) ... \u001b[?25l\u001b[?25hdone\n",
            "  Building wheel for seqeval (setup.py) ... \u001b[?25l\u001b[?25hdone\n",
            "  Building wheel for keras-bert (setup.py) ... \u001b[?25l\u001b[?25hdone\n",
            "  Building wheel for keras-transformer (setup.py) ... \u001b[?25l\u001b[?25hdone\n",
            "  Building wheel for keras-embed-sim (setup.py) ... \u001b[?25l\u001b[?25hdone\n",
            "  Building wheel for keras-layer-normalization (setup.py) ... \u001b[?25l\u001b[?25hdone\n",
            "  Building wheel for keras-multi-head (setup.py) ... \u001b[?25l\u001b[?25hdone\n",
            "  Building wheel for keras-self-attention (setup.py) ... \u001b[?25l\u001b[?25hdone\n",
            "  Building wheel for keras-pos-embd (setup.py) ... \u001b[?25l\u001b[?25hdone\n",
            "  Building wheel for keras-position-wise-feed-forward (setup.py) ... \u001b[?25l\u001b[?25hdone\n",
            "  Building wheel for langdetect (setup.py) ... \u001b[?25l\u001b[?25hdone\n",
            "  Building wheel for sacremoses (setup.py) ... \u001b[?25l\u001b[?25hdone\n",
            "  Building wheel for syntok (setup.py) ... \u001b[?25l\u001b[?25hdone\n"
          ],
          "name": "stdout"
        }
      ]
    },
    {
      "cell_type": "code",
      "metadata": {
        "id": "qDHDhHzWrDmm",
        "colab": {
          "base_uri": "https://localhost:8080/"
        },
        "outputId": "6ec8c799-c033-43d3-be91-f6e6e3fbd83d"
      },
      "source": [
        "# Download data\r\n",
        "!gdown --id 1gLdjbkhHVZd2RVP7k1lCR2UyBu0YPcsK\r\n",
        "!unzip -q '/content/aai4_data.zip'"
      ],
      "execution_count": 3,
      "outputs": [
        {
          "output_type": "stream",
          "text": [
            "Downloading...\n",
            "From: https://drive.google.com/uc?id=1gLdjbkhHVZd2RVP7k1lCR2UyBu0YPcsK\n",
            "To: /content/aai4_data.zip\n",
            "23.6MB [00:00, 57.1MB/s]\n"
          ],
          "name": "stdout"
        }
      ]
    },
    {
      "cell_type": "code",
      "metadata": {
        "id": "TWw-1GHGqVI1"
      },
      "source": [
        "# Import libaries\r\n",
        "import numpy as np \r\n",
        "import pandas as pd\r\n",
        "import random\r\n",
        "import os\r\n",
        "import re\r\n",
        "import ktrain\r\n",
        "from ktrain import text\r\n",
        "import tensorflow as tf\r\n",
        "from sklearn.model_selection import StratifiedKFold\r\n",
        "import warnings\r\n",
        "warnings.filterwarnings('ignore')"
      ],
      "execution_count": 4,
      "outputs": []
    },
    {
      "cell_type": "code",
      "metadata": {
        "id": "gdIMbg9vnM9b"
      },
      "source": [
        "# Set seed\r\n",
        "SEED = 3031\r\n",
        "\r\n",
        "def set_seeds(seed=SEED):\r\n",
        "    os.environ['PYTHONHASHSEED'] = str(seed)\r\n",
        "    random.seed(seed)\r\n",
        "    tf.random.set_seed(seed)\r\n",
        "    np.random.seed(seed)\r\n",
        "\r\n",
        "def set_global_determinism(seed=SEED):\r\n",
        "    set_seeds(seed=seed)\r\n",
        "\r\n",
        "    os.environ['TF_DETERMINISTIC_OPS'] = '1'\r\n",
        "    os.environ['TF_CUDNN_DETERMINISTIC'] = '1'\r\n",
        "    \r\n",
        "    tf.config.threading.set_inter_op_parallelism_threads(1)\r\n",
        "    tf.config.threading.set_intra_op_parallelism_threads(1)\r\n",
        "\r\n",
        "set_global_determinism(seed=SEED)"
      ],
      "execution_count": 5,
      "outputs": []
    },
    {
      "cell_type": "code",
      "metadata": {
        "id": "q0ECuC-bqVGi"
      },
      "source": [
        "# Load data\r\n",
        "train = pd.read_csv('/content/aai4_data/train.csv')\r\n",
        "test = pd.read_csv('/content/aai4_data/test.csv')\r\n",
        "sample = pd.read_csv('/content/aai4_data/sample_submission.csv')"
      ],
      "execution_count": 6,
      "outputs": []
    },
    {
      "cell_type": "code",
      "metadata": {
        "colab": {
          "base_uri": "https://localhost:8080/",
          "height": 195
        },
        "id": "iJu-Skwq_JaM",
        "outputId": "a6b5eb3b-84f2-494b-e638-7fac56ac8b1a"
      },
      "source": [
        "# Preview last five rows in test\r\n",
        "test.tail()"
      ],
      "execution_count": 7,
      "outputs": [
        {
          "output_type": "execute_result",
          "data": {
            "text/html": [
              "<div>\n",
              "<style scoped>\n",
              "    .dataframe tbody tr th:only-of-type {\n",
              "        vertical-align: middle;\n",
              "    }\n",
              "\n",
              "    .dataframe tbody tr th {\n",
              "        vertical-align: top;\n",
              "    }\n",
              "\n",
              "    .dataframe thead th {\n",
              "        text-align: right;\n",
              "    }\n",
              "</style>\n",
              "<table border=\"1\" class=\"dataframe\">\n",
              "  <thead>\n",
              "    <tr style=\"text-align: right;\">\n",
              "      <th></th>\n",
              "      <th>id</th>\n",
              "      <th>content</th>\n",
              "    </tr>\n",
              "  </thead>\n",
              "  <tbody>\n",
              "    <tr>\n",
              "      <th>7751</th>\n",
              "      <td>SW18887</td>\n",
              "      <td>\\n\\n \\nNa Ibrahim Yassin-Nkasi\\n \\n\\tMWANAFUNZ...</td>\n",
              "    </tr>\n",
              "    <tr>\n",
              "      <th>7752</th>\n",
              "      <td>SW23779</td>\n",
              "      <td>BAADA ya R. Kelly kukumbwa na\\nkashfa ya unyan...</td>\n",
              "    </tr>\n",
              "    <tr>\n",
              "      <th>7753</th>\n",
              "      <td>SW20243</td>\n",
              "      <td>\\n\\tNa JUDITH NYANGE-MWANZA\\n \\n\\n \\n\\tKAMPUNI...</td>\n",
              "    </tr>\n",
              "    <tr>\n",
              "      <th>7754</th>\n",
              "      <td>SW27943</td>\n",
              "      <td>WAZIRI wa Ulinzi, Dk Hussein Mwinyi vijana wa...</td>\n",
              "    </tr>\n",
              "    <tr>\n",
              "      <th>7755</th>\n",
              "      <td>SW22906</td>\n",
              "      <td>WAANDISHI WETU – DAR/MIKOANI KASI ya virusi vy...</td>\n",
              "    </tr>\n",
              "  </tbody>\n",
              "</table>\n",
              "</div>"
            ],
            "text/plain": [
              "           id                                            content\n",
              "7751  SW18887  \\n\\n \\nNa Ibrahim Yassin-Nkasi\\n \\n\\tMWANAFUNZ...\n",
              "7752  SW23779  BAADA ya R. Kelly kukumbwa na\\nkashfa ya unyan...\n",
              "7753  SW20243  \\n\\tNa JUDITH NYANGE-MWANZA\\n \\n\\n \\n\\tKAMPUNI...\n",
              "7754  SW27943   WAZIRI wa Ulinzi, Dk Hussein Mwinyi vijana wa...\n",
              "7755  SW22906  WAANDISHI WETU – DAR/MIKOANI KASI ya virusi vy..."
            ]
          },
          "metadata": {
            "tags": []
          },
          "execution_count": 7
        }
      ]
    },
    {
      "cell_type": "code",
      "metadata": {
        "colab": {
          "base_uri": "https://localhost:8080/",
          "height": 195
        },
        "id": "6DWa0uFBupn_",
        "outputId": "98bd7bd4-bf1d-4454-c51f-0290cfbe4735"
      },
      "source": [
        "# Remove trailing spaces, new lines and tab spaces from data\r\n",
        "train.content = train.content.apply(lambda x: (re.sub('\\s+',' ', x)).strip())\r\n",
        "test.content = test.content.apply(lambda x: (re.sub('\\s+',' ', x)).strip())\r\n",
        "test.tail()"
      ],
      "execution_count": 8,
      "outputs": [
        {
          "output_type": "execute_result",
          "data": {
            "text/html": [
              "<div>\n",
              "<style scoped>\n",
              "    .dataframe tbody tr th:only-of-type {\n",
              "        vertical-align: middle;\n",
              "    }\n",
              "\n",
              "    .dataframe tbody tr th {\n",
              "        vertical-align: top;\n",
              "    }\n",
              "\n",
              "    .dataframe thead th {\n",
              "        text-align: right;\n",
              "    }\n",
              "</style>\n",
              "<table border=\"1\" class=\"dataframe\">\n",
              "  <thead>\n",
              "    <tr style=\"text-align: right;\">\n",
              "      <th></th>\n",
              "      <th>id</th>\n",
              "      <th>content</th>\n",
              "    </tr>\n",
              "  </thead>\n",
              "  <tbody>\n",
              "    <tr>\n",
              "      <th>7751</th>\n",
              "      <td>SW18887</td>\n",
              "      <td>Na Ibrahim Yassin-Nkasi MWANAFUNZI wa kidato c...</td>\n",
              "    </tr>\n",
              "    <tr>\n",
              "      <th>7752</th>\n",
              "      <td>SW23779</td>\n",
              "      <td>BAADA ya R. Kelly kukumbwa na kashfa ya unyany...</td>\n",
              "    </tr>\n",
              "    <tr>\n",
              "      <th>7753</th>\n",
              "      <td>SW20243</td>\n",
              "      <td>Na JUDITH NYANGE-MWANZA KAMPUNI ya Ujenzi wa N...</td>\n",
              "    </tr>\n",
              "    <tr>\n",
              "      <th>7754</th>\n",
              "      <td>SW27943</td>\n",
              "      <td>WAZIRI wa Ulinzi, Dk Hussein Mwinyi vijana wan...</td>\n",
              "    </tr>\n",
              "    <tr>\n",
              "      <th>7755</th>\n",
              "      <td>SW22906</td>\n",
              "      <td>WAANDISHI WETU – DAR/MIKOANI KASI ya virusi vy...</td>\n",
              "    </tr>\n",
              "  </tbody>\n",
              "</table>\n",
              "</div>"
            ],
            "text/plain": [
              "           id                                            content\n",
              "7751  SW18887  Na Ibrahim Yassin-Nkasi MWANAFUNZI wa kidato c...\n",
              "7752  SW23779  BAADA ya R. Kelly kukumbwa na kashfa ya unyany...\n",
              "7753  SW20243  Na JUDITH NYANGE-MWANZA KAMPUNI ya Ujenzi wa N...\n",
              "7754  SW27943  WAZIRI wa Ulinzi, Dk Hussein Mwinyi vijana wan...\n",
              "7755  SW22906  WAANDISHI WETU – DAR/MIKOANI KASI ya virusi vy..."
            ]
          },
          "metadata": {
            "tags": []
          },
          "execution_count": 8
        }
      ]
    },
    {
      "cell_type": "code",
      "metadata": {
        "id": "h5dscE0Vre-J",
        "colab": {
          "base_uri": "https://localhost:8080/",
          "height": 66,
          "referenced_widgets": [
            "fa3a8735e68c41c7accffc74ce9447ae",
            "ec598ba5ac874ce7853c68e8ebe93645",
            "8b748858dc2f43dbbe61e0e7d60364a0",
            "4d3c49b123ea443a875493bb77e162cb",
            "958db85b2ea744dd81c994a50933d1b5",
            "f78f05533cca49f995448596c4231a98",
            "9619e3c1eb3a409899c702486a17e792",
            "28422b1b07ea447db4261b9ea662659c"
          ]
        },
        "outputId": "36f61834-2628-4afe-e44f-ab7a42fcd56a"
      },
      "source": [
        "# Set model parameters\r\n",
        "MODEL_NAME = 'xlm-roberta-base'\r\n",
        "MAX_LEN = 256\r\n",
        "BATCH_SIZE = 16\r\n",
        "FOLDS = 3\r\n",
        "LR = 3e-5\r\n",
        "EPOCHS = 2\r\n",
        "\r\n",
        "# List of class names\r\n",
        "CLASS_NAMES = sorted(train.category.unique().tolist()) # ['afya', 'burudani', 'kimataifa', 'kitaifa', 'michezo', 'uchumi']\r\n",
        "\r\n",
        "# Instantiate transformer with the provided parameters\r\n",
        "t = text.Transformer(model_name=MODEL_NAME, maxlen=MAX_LEN, class_names=CLASS_NAMES, batch_size=BATCH_SIZE)"
      ],
      "execution_count": 9,
      "outputs": [
        {
          "output_type": "display_data",
          "data": {
            "application/vnd.jupyter.widget-view+json": {
              "model_id": "fa3a8735e68c41c7accffc74ce9447ae",
              "version_minor": 0,
              "version_major": 2
            },
            "text/plain": [
              "HBox(children=(FloatProgress(value=0.0, description='Downloading', max=512.0, style=ProgressStyle(description_…"
            ]
          },
          "metadata": {
            "tags": []
          }
        },
        {
          "output_type": "stream",
          "text": [
            "\n"
          ],
          "name": "stdout"
        }
      ]
    },
    {
      "cell_type": "code",
      "metadata": {
        "id": "chBN-wZiy1QL",
        "colab": {
          "base_uri": "https://localhost:8080/",
          "height": 1000,
          "referenced_widgets": [
            "560d3fa635694e2a9a9410a011737075",
            "2c5283f30c8f428a8dd509702b90729b",
            "86f143f04251403e8ed50fe52e72df2a",
            "144eea02d8b2441196d91c646be08d45",
            "fdb5ff5ec5ab4fa486f8714cd185d799",
            "901791b19c524307b8105bc71fa3d27b",
            "b06a0c9a224641fabc62ebcc8241bca6",
            "c014fdd5fa564f50be83089471cc21e4",
            "a2f4de745dd648bf97d0916abc6d0df8",
            "ac11c6a44879425e85b78443e4036dcd",
            "e2c4ee3ce4d54982a367d76a3eb665a9",
            "999d3d3939c545dbaf6cfb7db9caf652",
            "90fbdf46e39b4a929d838664c182f190",
            "8def438e71a849b485daab55c4d2dfbd",
            "24f5449bbb924cb086c8376ba0a0217a",
            "53e0c97d7438446480b6b203e61e2763",
            "987cc41166a04adba2b8b78039aee22a",
            "bf3031a3cec04b6683aef27dbf2aa3b0",
            "d2bff619756249ebb8b5fa428faf02a5",
            "c1fafc3f913342cd851b9ba34db8d5d9",
            "13d8e85845ae4ba69bd95904e14a542e",
            "06441c2d907e4bcf9494d7ba9abe759f",
            "0d7e6bc240e64734a98c710e0ab92112",
            "3d12ea39d6764e0f90f02c265cb7d295"
          ]
        },
        "outputId": "8168056b-7d5c-4668-ba9a-51215462bec7"
      },
      "source": [
        "%%time\r\n",
        "# Prepare test data\r\n",
        "test_data = np.asarray(test.content)\r\n",
        "\r\n",
        "# Set number of folds to 3\r\n",
        "folds = StratifiedKFold(n_splits=FOLDS, random_state=SEED, shuffle=False)\r\n",
        "\r\n",
        "# List to store predictions and loss-score per fold\r\n",
        "oof_preds = []\r\n",
        "oof_loss_score = []\r\n",
        "\r\n",
        "for train_index, test_index in folds.split(train.content, train.category):\r\n",
        "  X_train, X_test = list(train.loc[train_index, 'content']), list(train.loc[test_index, 'content'])\r\n",
        "  y_train, y_test = np.asarray(train.loc[train_index, 'category']), np.asarray(train.loc[test_index, 'category'])\r\n",
        "\r\n",
        "  # Preprocess training and validation data\r\n",
        "  train_set = t.preprocess_train(X_train, y_train)\r\n",
        "  val_set = t.preprocess_test(X_test, y_test)\r\n",
        "\r\n",
        "  # Instantiate model\r\n",
        "  model = t.get_classifier()\r\n",
        "  learner = ktrain.get_learner(model, train_data=train_set, val_data=val_set, batch_size=BATCH_SIZE)\r\n",
        "\r\n",
        "  # Train model\r\n",
        "  history = learner.fit(LR, n_cycles=EPOCHS, checkpoint_folder='/tmp')\r\n",
        "  learner.validate(class_names=t.get_classes())\r\n",
        "\r\n",
        "  # Append score of each fold\r\n",
        "  oof_loss_score.append(history.history['val_loss'][-1])\r\n",
        "\r\n",
        "  # Make predictions\r\n",
        "  preds = ktrain.get_predictor(learner.model, preproc=t).predict(test_data, return_proba=True)\r\n",
        "\r\n",
        "  # Append preds to oof_preds list\r\n",
        "  oof_preds.append(preds)\r\n",
        "\r\n",
        "# Check cv score and prepare submission file\r\n",
        "print(f'Mean Loss: {np.mean(oof_loss_score)}')\r\n",
        "sub = pd.DataFrame(np.mean(oof_preds, axis=0), columns = t.get_classes())\r\n",
        "sub['test_id'] = test.id\r\n",
        "sub = sub[sample.columns]\r\n",
        "sub.to_csv('Submission.csv', index = False)"
      ],
      "execution_count": 10,
      "outputs": [
        {
          "output_type": "stream",
          "text": [
            "preprocessing train...\n",
            "language: sw\n",
            "train sequence lengths:\n",
            "\tmean : 333\n",
            "\t95percentile : 792\n",
            "\t99percentile : 1268\n"
          ],
          "name": "stdout"
        },
        {
          "output_type": "display_data",
          "data": {
            "application/vnd.jupyter.widget-view+json": {
              "model_id": "560d3fa635694e2a9a9410a011737075",
              "version_minor": 0,
              "version_major": 2
            },
            "text/plain": [
              "HBox(children=(FloatProgress(value=0.0, description='Downloading', max=512.0, style=ProgressStyle(description_…"
            ]
          },
          "metadata": {
            "tags": []
          }
        },
        {
          "output_type": "stream",
          "text": [
            "\n"
          ],
          "name": "stdout"
        },
        {
          "output_type": "display_data",
          "data": {
            "application/vnd.jupyter.widget-view+json": {
              "model_id": "a2f4de745dd648bf97d0916abc6d0df8",
              "version_minor": 0,
              "version_major": 2
            },
            "text/plain": [
              "HBox(children=(FloatProgress(value=0.0, description='Downloading', max=5069051.0, style=ProgressStyle(descript…"
            ]
          },
          "metadata": {
            "tags": []
          }
        },
        {
          "output_type": "stream",
          "text": [
            "\n"
          ],
          "name": "stdout"
        },
        {
          "output_type": "display_data",
          "data": {
            "text/html": [
              ""
            ],
            "text/plain": [
              "<IPython.core.display.HTML object>"
            ]
          },
          "metadata": {
            "tags": []
          }
        },
        {
          "output_type": "stream",
          "text": [
            "Is Multi-Label? False\n",
            "preprocessing test...\n",
            "language: sw\n",
            "test sequence lengths:\n",
            "\tmean : 331\n",
            "\t95percentile : 768\n",
            "\t99percentile : 1234\n"
          ],
          "name": "stdout"
        },
        {
          "output_type": "display_data",
          "data": {
            "text/html": [
              ""
            ],
            "text/plain": [
              "<IPython.core.display.HTML object>"
            ]
          },
          "metadata": {
            "tags": []
          }
        },
        {
          "output_type": "display_data",
          "data": {
            "application/vnd.jupyter.widget-view+json": {
              "model_id": "987cc41166a04adba2b8b78039aee22a",
              "version_minor": 0,
              "version_major": 2
            },
            "text/plain": [
              "HBox(children=(FloatProgress(value=0.0, description='Downloading', max=1885418496.0, style=ProgressStyle(descr…"
            ]
          },
          "metadata": {
            "tags": []
          }
        },
        {
          "output_type": "stream",
          "text": [
            "\n",
            "Epoch 1/2\n",
            "970/970 [==============================] - 1094s 1s/step - loss: 0.8316 - accuracy: 0.7242 - val_loss: 0.3710 - val_accuracy: 0.8945\n",
            "Epoch 2/2\n",
            "970/970 [==============================] - 1081s 1s/step - loss: 0.3307 - accuracy: 0.8989 - val_loss: 0.2845 - val_accuracy: 0.9119\n",
            "              precision    recall  f1-score   support\n",
            "\n",
            "        afya       0.61      0.42      0.50       286\n",
            "    burudani       0.92      0.89      0.90       743\n",
            "   kimataifa       0.93      0.89      0.91       635\n",
            "     kitaifa       0.90      0.94      0.92      3414\n",
            "     michezo       0.95      0.97      0.96      2002\n",
            "      uchumi       0.92      0.84      0.88       676\n",
            "\n",
            "    accuracy                           0.91      7756\n",
            "   macro avg       0.87      0.83      0.85      7756\n",
            "weighted avg       0.91      0.91      0.91      7756\n",
            "\n",
            "preprocessing train...\n",
            "language: sw\n",
            "train sequence lengths:\n",
            "\tmean : 332\n",
            "\t95percentile : 782\n",
            "\t99percentile : 1279\n"
          ],
          "name": "stdout"
        },
        {
          "output_type": "display_data",
          "data": {
            "text/html": [
              ""
            ],
            "text/plain": [
              "<IPython.core.display.HTML object>"
            ]
          },
          "metadata": {
            "tags": []
          }
        },
        {
          "output_type": "stream",
          "text": [
            "Is Multi-Label? False\n",
            "preprocessing test...\n",
            "language: sw\n",
            "test sequence lengths:\n",
            "\tmean : 334\n",
            "\t95percentile : 787\n",
            "\t99percentile : 1239\n"
          ],
          "name": "stdout"
        },
        {
          "output_type": "display_data",
          "data": {
            "text/html": [
              ""
            ],
            "text/plain": [
              "<IPython.core.display.HTML object>"
            ]
          },
          "metadata": {
            "tags": []
          }
        },
        {
          "output_type": "stream",
          "text": [
            "Epoch 1/2\n",
            "970/970 [==============================] - 1096s 1s/step - loss: 0.7408 - accuracy: 0.7570 - val_loss: 0.3460 - val_accuracy: 0.8813\n",
            "Epoch 2/2\n",
            "970/970 [==============================] - 1080s 1s/step - loss: 0.3208 - accuracy: 0.8940 - val_loss: 0.3023 - val_accuracy: 0.9082\n",
            "              precision    recall  f1-score   support\n",
            "\n",
            "        afya       0.58      0.50      0.53       286\n",
            "    burudani       0.92      0.90      0.91       743\n",
            "   kimataifa       0.90      0.87      0.89       636\n",
            "     kitaifa       0.91      0.93      0.92      3414\n",
            "     michezo       0.94      0.97      0.96      2001\n",
            "      uchumi       0.92      0.83      0.88       676\n",
            "\n",
            "    accuracy                           0.91      7756\n",
            "   macro avg       0.86      0.83      0.85      7756\n",
            "weighted avg       0.91      0.91      0.91      7756\n",
            "\n",
            "preprocessing train...\n",
            "language: sw\n",
            "train sequence lengths:\n",
            "\tmean : 332\n",
            "\t95percentile : 778\n",
            "\t99percentile : 1238\n"
          ],
          "name": "stdout"
        },
        {
          "output_type": "display_data",
          "data": {
            "text/html": [
              ""
            ],
            "text/plain": [
              "<IPython.core.display.HTML object>"
            ]
          },
          "metadata": {
            "tags": []
          }
        },
        {
          "output_type": "stream",
          "text": [
            "Is Multi-Label? False\n",
            "preprocessing test...\n",
            "language: sw\n",
            "test sequence lengths:\n",
            "\tmean : 333\n",
            "\t95percentile : 794\n",
            "\t99percentile : 1299\n"
          ],
          "name": "stdout"
        },
        {
          "output_type": "display_data",
          "data": {
            "text/html": [
              ""
            ],
            "text/plain": [
              "<IPython.core.display.HTML object>"
            ]
          },
          "metadata": {
            "tags": []
          }
        },
        {
          "output_type": "stream",
          "text": [
            "Epoch 1/2\n",
            "970/970 [==============================] - 1097s 1s/step - loss: 0.7295 - accuracy: 0.7622 - val_loss: 0.2984 - val_accuracy: 0.9045\n",
            "Epoch 2/2\n",
            "970/970 [==============================] - 1082s 1s/step - loss: 0.2952 - accuracy: 0.9076 - val_loss: 0.3021 - val_accuracy: 0.9067\n",
            "              precision    recall  f1-score   support\n",
            "\n",
            "        afya       0.55      0.66      0.60       287\n",
            "    burudani       0.88      0.95      0.91       743\n",
            "   kimataifa       0.94      0.86      0.90       635\n",
            "     kitaifa       0.93      0.90      0.91      3414\n",
            "     michezo       0.93      0.99      0.96      2001\n",
            "      uchumi       0.92      0.82      0.86       676\n",
            "\n",
            "    accuracy                           0.91      7756\n",
            "   macro avg       0.86      0.86      0.86      7756\n",
            "weighted avg       0.91      0.91      0.91      7756\n",
            "\n",
            "Mean Loss: 0.2963431775569916\n",
            "CPU times: user 24min 1s, sys: 13min 2s, total: 37min 3s\n",
            "Wall time: 2h 9min 20s\n"
          ],
          "name": "stdout"
        }
      ]
    },
    {
      "cell_type": "code",
      "metadata": {
        "id": "rSzTRo1x-HCj"
      },
      "source": [
        ""
      ],
      "execution_count": 11,
      "outputs": []
    },
    {
      "cell_type": "code",
      "metadata": {
        "id": "9t71teFG-G-_"
      },
      "source": [
        ""
      ],
      "execution_count": null,
      "outputs": []
    },
    {
      "cell_type": "code",
      "metadata": {
        "id": "k_Mml3aA-G7r"
      },
      "source": [
        ""
      ],
      "execution_count": null,
      "outputs": []
    }
  ]
}